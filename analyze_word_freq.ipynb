{
 "cells": [
  {
   "cell_type": "code",
   "execution_count": null,
   "metadata": {},
   "outputs": [],
   "source": [
    "import re\n",
    "\n",
    "# Read a text file containing some typical text, including newlines and punctuation\n",
    "text = open('somefile.txt', 'r', encoding='utf-8')\n",
    "\n",
    "# Make contents into a string\n",
    "text2 = text.read()\n",
    "\n",
    "# Make all letters lowercase\n",
    "text2lower = str.lower(text2)\n",
    "\n",
    "# Replace newlines\n",
    "text3 = text2lower.replace('\\n', ' ')\n",
    "\n",
    "# Replace specified punctuation with a space; r\"\" denotes no special handling for items inside quotes\n",
    "# except [] still means a list, and + means find anywhere\n",
    "text4 = re.sub(r\"[.,:()-]+\", \" \", text3)\n",
    "\n",
    "# View text\n",
    "print(text4)"
   ]
  },
  {
   "cell_type": "code",
   "execution_count": null,
   "metadata": {},
   "outputs": [],
   "source": [
    "from collections import Counter\n",
    "\n",
    "# Split into tokens by whitespaces; list created\n",
    "tokens = text4.split(' ')\n",
    "\n",
    "# Count instances of each word\n",
    "tcount = Counter(tokens)\n",
    "\n",
    "# Make collections object into dict\n",
    "tdict = dict(tcount)"
   ]
  },
  {
   "cell_type": "code",
   "execution_count": null,
   "metadata": {},
   "outputs": [],
   "source": [
    "import pandas as pd\n",
    "\n",
    "# Print first 20 rows of dict in nice table, sorted by values\n",
    "pd.DataFrame(sorted(tdict.items(), key=lambda x:x[1], reverse=True), columns=['Word', 'Frequency']).head(n=30)"
   ]
  },
  {
   "cell_type": "code",
   "execution_count": null,
   "metadata": {},
   "outputs": [],
   "source": [
    "# Write table to csv\n",
    "\n",
    "pd.DataFrame(sorted(tdict.items(), key=lambda x:x[1], reverse=True), \n",
    "             columns=['Word', 'Frequency']).to_csv(\"~/Desktop/word_freq.csv\")"
   ]
  }
 ],
 "metadata": {
  "kernelspec": {
   "display_name": "Python 3",
   "language": "python",
   "name": "python3"
  },
  "language_info": {
   "codemirror_mode": {
    "name": "ipython",
    "version": 3
   },
   "file_extension": ".py",
   "mimetype": "text/x-python",
   "name": "python",
   "nbconvert_exporter": "python",
   "pygments_lexer": "ipython3",
   "version": "3.7.6"
  }
 },
 "nbformat": 4,
 "nbformat_minor": 4
}
